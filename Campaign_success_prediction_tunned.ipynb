{
 "cells": [
  {
   "cell_type": "code",
   "execution_count": 1,
   "metadata": {},
   "outputs": [
    {
     "name": "stderr",
     "output_type": "stream",
     "text": [
      "In C:\\Users\\Abhineet\\Anaconda3\\lib\\site-packages\\matplotlib\\mpl-data\\stylelib\\_classic_test.mplstyle: \n",
      "The text.latex.preview rcparam was deprecated in Matplotlib 3.3 and will be removed two minor releases later.\n",
      "In C:\\Users\\Abhineet\\Anaconda3\\lib\\site-packages\\matplotlib\\mpl-data\\stylelib\\_classic_test.mplstyle: \n",
      "The mathtext.fallback_to_cm rcparam was deprecated in Matplotlib 3.3 and will be removed two minor releases later.\n",
      "In C:\\Users\\Abhineet\\Anaconda3\\lib\\site-packages\\matplotlib\\mpl-data\\stylelib\\_classic_test.mplstyle: Support for setting the 'mathtext.fallback_to_cm' rcParam is deprecated since 3.3 and will be removed two minor releases later; use 'mathtext.fallback : 'cm' instead.\n",
      "In C:\\Users\\Abhineet\\Anaconda3\\lib\\site-packages\\matplotlib\\mpl-data\\stylelib\\_classic_test.mplstyle: \n",
      "The validate_bool_maybe_none function was deprecated in Matplotlib 3.3 and will be removed two minor releases later.\n",
      "In C:\\Users\\Abhineet\\Anaconda3\\lib\\site-packages\\matplotlib\\mpl-data\\stylelib\\_classic_test.mplstyle: \n",
      "The savefig.jpeg_quality rcparam was deprecated in Matplotlib 3.3 and will be removed two minor releases later.\n",
      "In C:\\Users\\Abhineet\\Anaconda3\\lib\\site-packages\\matplotlib\\mpl-data\\stylelib\\_classic_test.mplstyle: \n",
      "The keymap.all_axes rcparam was deprecated in Matplotlib 3.3 and will be removed two minor releases later.\n",
      "In C:\\Users\\Abhineet\\Anaconda3\\lib\\site-packages\\matplotlib\\mpl-data\\stylelib\\_classic_test.mplstyle: \n",
      "The animation.avconv_path rcparam was deprecated in Matplotlib 3.3 and will be removed two minor releases later.\n",
      "In C:\\Users\\Abhineet\\Anaconda3\\lib\\site-packages\\matplotlib\\mpl-data\\stylelib\\_classic_test.mplstyle: \n",
      "The animation.avconv_args rcparam was deprecated in Matplotlib 3.3 and will be removed two minor releases later.\n"
     ]
    }
   ],
   "source": [
    "import pandas as pd\n",
    "import numpy as np\n",
    "import matplotlib.pyplot as plt\n",
    "import seaborn as sns\n",
    "from sklearn.model_selection import train_test_split\n",
    "from sklearn.preprocessing import StandardScaler\n",
    "from sklearn.ensemble import RandomForestRegressor \n",
    "from sklearn.metrics import confusion_matrix, precision_score, recall_score\n",
    "from sklearn.metrics import accuracy_score\n",
    "from sklearn.tree import DecisionTreeClassifier\n",
    "from sklearn.ensemble import RandomForestClassifier,AdaBoostClassifier,GradientBoostingClassifier\n",
    "from sklearn.metrics import classification_report,accuracy_score\n",
    "from xgboost import XGBClassifier\n",
    "from sklearn.linear_model import LogisticRegression\n",
    "from sklearn.utils import resample,shuffle\n",
    "from sklearn.metrics import accuracy_score,roc_auc_score,confusion_matrix,classification_report\n",
    "from sklearn.metrics import f1_score\n",
    "\n",
    "import warnings\n",
    "warnings.filterwarnings('ignore')"
   ]
  },
  {
   "cell_type": "code",
   "execution_count": 2,
   "metadata": {},
   "outputs": [
    {
     "data": {
      "text/html": [
       "<div>\n",
       "<style scoped>\n",
       "    .dataframe tbody tr th:only-of-type {\n",
       "        vertical-align: middle;\n",
       "    }\n",
       "\n",
       "    .dataframe tbody tr th {\n",
       "        vertical-align: top;\n",
       "    }\n",
       "\n",
       "    .dataframe thead th {\n",
       "        text-align: right;\n",
       "    }\n",
       "</style>\n",
       "<table border=\"1\" class=\"dataframe\">\n",
       "  <thead>\n",
       "    <tr style=\"text-align: right;\">\n",
       "      <th></th>\n",
       "      <th>UserID</th>\n",
       "      <th>realtionship_status</th>\n",
       "      <th>industry</th>\n",
       "      <th>genre</th>\n",
       "      <th>targeted_sex</th>\n",
       "      <th>average_runtime(minutes_per_week)</th>\n",
       "      <th>airtime</th>\n",
       "      <th>airlocation</th>\n",
       "      <th>ratings</th>\n",
       "      <th>expensive</th>\n",
       "      <th>money_back_guarantee</th>\n",
       "      <th>netgain</th>\n",
       "    </tr>\n",
       "  </thead>\n",
       "  <tbody>\n",
       "    <tr>\n",
       "      <td>0</td>\n",
       "      <td>UI_9185</td>\n",
       "      <td>Married-civ-spouse</td>\n",
       "      <td>Pharma</td>\n",
       "      <td>Comedy</td>\n",
       "      <td>Male</td>\n",
       "      <td>40</td>\n",
       "      <td>Daytime</td>\n",
       "      <td>United-States</td>\n",
       "      <td>0.027465</td>\n",
       "      <td>Medium</td>\n",
       "      <td>No</td>\n",
       "      <td>0</td>\n",
       "    </tr>\n",
       "    <tr>\n",
       "      <td>1</td>\n",
       "      <td>UI_449</td>\n",
       "      <td>Never-married</td>\n",
       "      <td>Political</td>\n",
       "      <td>Comedy</td>\n",
       "      <td>Male</td>\n",
       "      <td>35</td>\n",
       "      <td>Morning</td>\n",
       "      <td>International</td>\n",
       "      <td>0.027465</td>\n",
       "      <td>Low</td>\n",
       "      <td>No</td>\n",
       "      <td>0</td>\n",
       "    </tr>\n",
       "    <tr>\n",
       "      <td>2</td>\n",
       "      <td>UI_9014</td>\n",
       "      <td>Never-married</td>\n",
       "      <td>Auto</td>\n",
       "      <td>Comedy</td>\n",
       "      <td>Male</td>\n",
       "      <td>40</td>\n",
       "      <td>Morning</td>\n",
       "      <td>United-States</td>\n",
       "      <td>0.027465</td>\n",
       "      <td>Low</td>\n",
       "      <td>No</td>\n",
       "      <td>0</td>\n",
       "    </tr>\n",
       "    <tr>\n",
       "      <td>3</td>\n",
       "      <td>UI_14987</td>\n",
       "      <td>Married-civ-spouse</td>\n",
       "      <td>Pharma</td>\n",
       "      <td>Infomercial</td>\n",
       "      <td>Male</td>\n",
       "      <td>40</td>\n",
       "      <td>Primetime</td>\n",
       "      <td>United-States</td>\n",
       "      <td>0.027465</td>\n",
       "      <td>Low</td>\n",
       "      <td>Yes</td>\n",
       "      <td>0</td>\n",
       "    </tr>\n",
       "    <tr>\n",
       "      <td>4</td>\n",
       "      <td>UI_25532</td>\n",
       "      <td>Married-civ-spouse</td>\n",
       "      <td>Other</td>\n",
       "      <td>Comedy</td>\n",
       "      <td>Female</td>\n",
       "      <td>50</td>\n",
       "      <td>Primetime</td>\n",
       "      <td>United-States</td>\n",
       "      <td>0.027465</td>\n",
       "      <td>Low</td>\n",
       "      <td>Yes</td>\n",
       "      <td>1</td>\n",
       "    </tr>\n",
       "  </tbody>\n",
       "</table>\n",
       "</div>"
      ],
      "text/plain": [
       "     UserID realtionship_status   industry        genre targeted_sex  \\\n",
       "0   UI_9185  Married-civ-spouse     Pharma       Comedy         Male   \n",
       "1    UI_449       Never-married  Political       Comedy         Male   \n",
       "2   UI_9014       Never-married       Auto       Comedy         Male   \n",
       "3  UI_14987  Married-civ-spouse     Pharma  Infomercial         Male   \n",
       "4  UI_25532  Married-civ-spouse      Other       Comedy       Female   \n",
       "\n",
       "   average_runtime(minutes_per_week)    airtime    airlocation   ratings  \\\n",
       "0                                 40    Daytime  United-States  0.027465   \n",
       "1                                 35    Morning  International  0.027465   \n",
       "2                                 40    Morning  United-States  0.027465   \n",
       "3                                 40  Primetime  United-States  0.027465   \n",
       "4                                 50  Primetime  United-States  0.027465   \n",
       "\n",
       "  expensive money_back_guarantee  netgain  \n",
       "0    Medium                   No        0  \n",
       "1       Low                   No        0  \n",
       "2       Low                   No        0  \n",
       "3       Low                  Yes        0  \n",
       "4       Low                  Yes        1  "
      ]
     },
     "execution_count": 2,
     "metadata": {},
     "output_type": "execute_result"
    }
   ],
   "source": [
    "train_df = pd.read_csv('train.csv')\n",
    "train_df.head()"
   ]
  },
  {
   "cell_type": "code",
   "execution_count": 3,
   "metadata": {},
   "outputs": [
    {
     "data": {
      "text/html": [
       "<div>\n",
       "<style scoped>\n",
       "    .dataframe tbody tr th:only-of-type {\n",
       "        vertical-align: middle;\n",
       "    }\n",
       "\n",
       "    .dataframe tbody tr th {\n",
       "        vertical-align: top;\n",
       "    }\n",
       "\n",
       "    .dataframe thead th {\n",
       "        text-align: right;\n",
       "    }\n",
       "</style>\n",
       "<table border=\"1\" class=\"dataframe\">\n",
       "  <thead>\n",
       "    <tr style=\"text-align: right;\">\n",
       "      <th></th>\n",
       "      <th>UserID</th>\n",
       "      <th>realtionship_status</th>\n",
       "      <th>industry</th>\n",
       "      <th>genre</th>\n",
       "      <th>targeted_sex</th>\n",
       "      <th>average_runtime(minutes_per_week)</th>\n",
       "      <th>airtime</th>\n",
       "      <th>airlocation</th>\n",
       "      <th>ratings</th>\n",
       "      <th>expensive</th>\n",
       "      <th>money_back_guarantee</th>\n",
       "    </tr>\n",
       "  </thead>\n",
       "  <tbody>\n",
       "    <tr>\n",
       "      <td>0</td>\n",
       "      <td>UI_8772</td>\n",
       "      <td>Never-married</td>\n",
       "      <td>Entertainment</td>\n",
       "      <td>Infomercial</td>\n",
       "      <td>Female</td>\n",
       "      <td>40</td>\n",
       "      <td>Primetime</td>\n",
       "      <td>United-States</td>\n",
       "      <td>0.027465</td>\n",
       "      <td>High</td>\n",
       "      <td>Yes</td>\n",
       "    </tr>\n",
       "    <tr>\n",
       "      <td>1</td>\n",
       "      <td>UI_13139</td>\n",
       "      <td>Divorced</td>\n",
       "      <td>Auto</td>\n",
       "      <td>Comedy</td>\n",
       "      <td>Female</td>\n",
       "      <td>40</td>\n",
       "      <td>Primetime</td>\n",
       "      <td>United-States</td>\n",
       "      <td>0.027465</td>\n",
       "      <td>Low</td>\n",
       "      <td>No</td>\n",
       "    </tr>\n",
       "    <tr>\n",
       "      <td>2</td>\n",
       "      <td>UI_15381</td>\n",
       "      <td>Married-civ-spouse</td>\n",
       "      <td>Pharma</td>\n",
       "      <td>Infomercial</td>\n",
       "      <td>Male</td>\n",
       "      <td>40</td>\n",
       "      <td>Primetime</td>\n",
       "      <td>United-States</td>\n",
       "      <td>0.027465</td>\n",
       "      <td>High</td>\n",
       "      <td>No</td>\n",
       "    </tr>\n",
       "    <tr>\n",
       "      <td>3</td>\n",
       "      <td>UI_15503</td>\n",
       "      <td>Never-married</td>\n",
       "      <td>Auto</td>\n",
       "      <td>Comedy</td>\n",
       "      <td>Male</td>\n",
       "      <td>30</td>\n",
       "      <td>Primetime</td>\n",
       "      <td>United-States</td>\n",
       "      <td>0.027465</td>\n",
       "      <td>High</td>\n",
       "      <td>Yes</td>\n",
       "    </tr>\n",
       "    <tr>\n",
       "      <td>4</td>\n",
       "      <td>UI_16556</td>\n",
       "      <td>Never-married</td>\n",
       "      <td>Political</td>\n",
       "      <td>Comedy</td>\n",
       "      <td>Male</td>\n",
       "      <td>70</td>\n",
       "      <td>Morning</td>\n",
       "      <td>United-States</td>\n",
       "      <td>0.027465</td>\n",
       "      <td>Low</td>\n",
       "      <td>No</td>\n",
       "    </tr>\n",
       "  </tbody>\n",
       "</table>\n",
       "</div>"
      ],
      "text/plain": [
       "     UserID realtionship_status       industry        genre targeted_sex  \\\n",
       "0   UI_8772       Never-married  Entertainment  Infomercial       Female   \n",
       "1  UI_13139            Divorced           Auto       Comedy       Female   \n",
       "2  UI_15381  Married-civ-spouse         Pharma  Infomercial         Male   \n",
       "3  UI_15503       Never-married           Auto       Comedy         Male   \n",
       "4  UI_16556       Never-married      Political       Comedy         Male   \n",
       "\n",
       "   average_runtime(minutes_per_week)    airtime    airlocation   ratings  \\\n",
       "0                                 40  Primetime  United-States  0.027465   \n",
       "1                                 40  Primetime  United-States  0.027465   \n",
       "2                                 40  Primetime  United-States  0.027465   \n",
       "3                                 30  Primetime  United-States  0.027465   \n",
       "4                                 70    Morning  United-States  0.027465   \n",
       "\n",
       "  expensive money_back_guarantee  \n",
       "0      High                  Yes  \n",
       "1       Low                   No  \n",
       "2      High                   No  \n",
       "3      High                  Yes  \n",
       "4       Low                   No  "
      ]
     },
     "execution_count": 3,
     "metadata": {},
     "output_type": "execute_result"
    }
   ],
   "source": [
    "test_df = pd.read_csv('test.csv')\n",
    "test_df.head()"
   ]
  },
  {
   "cell_type": "markdown",
   "metadata": {},
   "source": [
    "### Statistical analysis of data"
   ]
  },
  {
   "cell_type": "code",
   "execution_count": 4,
   "metadata": {},
   "outputs": [
    {
     "data": {
      "text/plain": [
       "UserID                               0\n",
       "realtionship_status                  0\n",
       "industry                             0\n",
       "genre                                0\n",
       "targeted_sex                         0\n",
       "average_runtime(minutes_per_week)    0\n",
       "airtime                              0\n",
       "airlocation                          0\n",
       "ratings                              0\n",
       "expensive                            0\n",
       "money_back_guarantee                 0\n",
       "netgain                              0\n",
       "dtype: int64"
      ]
     },
     "execution_count": 4,
     "metadata": {},
     "output_type": "execute_result"
    }
   ],
   "source": [
    "train_df.isnull().sum()"
   ]
  },
  {
   "cell_type": "code",
   "execution_count": 5,
   "metadata": {},
   "outputs": [
    {
     "data": {
      "text/plain": [
       "UserID                               0\n",
       "realtionship_status                  0\n",
       "industry                             0\n",
       "genre                                0\n",
       "targeted_sex                         0\n",
       "average_runtime(minutes_per_week)    0\n",
       "airtime                              0\n",
       "airlocation                          0\n",
       "ratings                              0\n",
       "expensive                            0\n",
       "money_back_guarantee                 0\n",
       "dtype: int64"
      ]
     },
     "execution_count": 5,
     "metadata": {},
     "output_type": "execute_result"
    }
   ],
   "source": [
    "test_df.isnull().sum()"
   ]
  },
  {
   "cell_type": "code",
   "execution_count": 6,
   "metadata": {},
   "outputs": [
    {
     "name": "stdout",
     "output_type": "stream",
     "text": [
      "<class 'pandas.core.frame.DataFrame'>\n",
      "RangeIndex: 19536 entries, 0 to 19535\n",
      "Data columns (total 12 columns):\n",
      "UserID                               19536 non-null object\n",
      "realtionship_status                  19536 non-null object\n",
      "industry                             19536 non-null object\n",
      "genre                                19536 non-null object\n",
      "targeted_sex                         19536 non-null object\n",
      "average_runtime(minutes_per_week)    19536 non-null int64\n",
      "airtime                              19536 non-null object\n",
      "airlocation                          19536 non-null object\n",
      "ratings                              19536 non-null float64\n",
      "expensive                            19536 non-null object\n",
      "money_back_guarantee                 19536 non-null object\n",
      "netgain                              19536 non-null int64\n",
      "dtypes: float64(1), int64(2), object(9)\n",
      "memory usage: 1.8+ MB\n",
      "***********\n",
      "***********\n",
      "<class 'pandas.core.frame.DataFrame'>\n",
      "RangeIndex: 6512 entries, 0 to 6511\n",
      "Data columns (total 11 columns):\n",
      "UserID                               6512 non-null object\n",
      "realtionship_status                  6512 non-null object\n",
      "industry                             6512 non-null object\n",
      "genre                                6512 non-null object\n",
      "targeted_sex                         6512 non-null object\n",
      "average_runtime(minutes_per_week)    6512 non-null int64\n",
      "airtime                              6512 non-null object\n",
      "airlocation                          6512 non-null object\n",
      "ratings                              6512 non-null float64\n",
      "expensive                            6512 non-null object\n",
      "money_back_guarantee                 6512 non-null object\n",
      "dtypes: float64(1), int64(1), object(9)\n",
      "memory usage: 559.8+ KB\n"
     ]
    }
   ],
   "source": [
    "train_df.info()\n",
    "print('***********')\n",
    "print('***********')\n",
    "\n",
    "test_df.info()"
   ]
  },
  {
   "cell_type": "code",
   "execution_count": 7,
   "metadata": {},
   "outputs": [
    {
     "data": {
      "text/plain": [
       "<bound method NDFrame.describe of          UserID realtionship_status   industry        genre targeted_sex  \\\n",
       "0       UI_9185  Married-civ-spouse     Pharma       Comedy         Male   \n",
       "1        UI_449       Never-married  Political       Comedy         Male   \n",
       "2       UI_9014       Never-married       Auto       Comedy         Male   \n",
       "3      UI_14987  Married-civ-spouse     Pharma  Infomercial         Male   \n",
       "4      UI_25532  Married-civ-spouse      Other       Comedy       Female   \n",
       "...         ...                 ...        ...          ...          ...   \n",
       "19531  UI_13124       Never-married       Auto  Infomercial         Male   \n",
       "19532  UI_19649       Never-married  Political        Drama       Female   \n",
       "19533   UI_9846  Married-civ-spouse      Other       Comedy       Female   \n",
       "19534  UI_10800       Never-married  Political       Comedy         Male   \n",
       "19535   UI_2733       Never-married  Political  Infomercial         Male   \n",
       "\n",
       "       average_runtime(minutes_per_week)    airtime    airlocation   ratings  \\\n",
       "0                                     40    Daytime  United-States  0.027465   \n",
       "1                                     35    Morning  International  0.027465   \n",
       "2                                     40    Morning  United-States  0.027465   \n",
       "3                                     40  Primetime  United-States  0.027465   \n",
       "4                                     50  Primetime  United-States  0.027465   \n",
       "...                                  ...        ...            ...       ...   \n",
       "19531                                 40  Primetime  United-States  0.027465   \n",
       "19532                                 15    Morning  United-States  0.027465   \n",
       "19533                                 55  Primetime  United-States  0.027465   \n",
       "19534                                 38  Primetime  United-States  0.027465   \n",
       "19535                                 40    Morning  United-States  0.027465   \n",
       "\n",
       "      expensive money_back_guarantee  netgain  \n",
       "0        Medium                   No        0  \n",
       "1           Low                   No        0  \n",
       "2           Low                   No        0  \n",
       "3           Low                  Yes        0  \n",
       "4           Low                  Yes        1  \n",
       "...         ...                  ...      ...  \n",
       "19531      High                  Yes        0  \n",
       "19532      High                  Yes        1  \n",
       "19533       Low                  Yes        0  \n",
       "19534      High                  Yes        0  \n",
       "19535      High                  Yes        0  \n",
       "\n",
       "[19536 rows x 12 columns]>"
      ]
     },
     "execution_count": 7,
     "metadata": {},
     "output_type": "execute_result"
    }
   ],
   "source": [
    "train_df.describe"
   ]
  },
  {
   "cell_type": "code",
   "execution_count": 8,
   "metadata": {},
   "outputs": [
    {
     "data": {
      "text/plain": [
       "<bound method NDFrame.describe of         UserID realtionship_status       industry        genre targeted_sex  \\\n",
       "0      UI_8772       Never-married  Entertainment  Infomercial       Female   \n",
       "1     UI_13139            Divorced           Auto       Comedy       Female   \n",
       "2     UI_15381  Married-civ-spouse         Pharma  Infomercial         Male   \n",
       "3     UI_15503       Never-married           Auto       Comedy         Male   \n",
       "4     UI_16556       Never-married      Political       Comedy         Male   \n",
       "...        ...                 ...            ...          ...          ...   \n",
       "6507   UI_2716       Never-married      Political        Drama         Male   \n",
       "6508  UI_17670            Divorced  Entertainment       Comedy       Female   \n",
       "6509  UI_16871  Married-civ-spouse         Pharma       Comedy         Male   \n",
       "6510   UI_2667            Divorced           Auto       Comedy       Female   \n",
       "6511  UI_18160            Divorced  Entertainment       Comedy       Female   \n",
       "\n",
       "      average_runtime(minutes_per_week)    airtime    airlocation   ratings  \\\n",
       "0                                    40  Primetime  United-States  0.027465   \n",
       "1                                    40  Primetime  United-States  0.027465   \n",
       "2                                    40  Primetime  United-States  0.027465   \n",
       "3                                    30  Primetime  United-States  0.027465   \n",
       "4                                    70    Morning  United-States  0.027465   \n",
       "...                                 ...        ...            ...       ...   \n",
       "6507                                 40  Primetime  International  0.027465   \n",
       "6508                                 40  Primetime  United-States  0.027465   \n",
       "6509                                 40  Primetime  United-States  0.027465   \n",
       "6510                                 35  Primetime  United-States  0.027465   \n",
       "6511                                 35  Primetime  United-States  0.027465   \n",
       "\n",
       "     expensive money_back_guarantee  \n",
       "0         High                  Yes  \n",
       "1          Low                   No  \n",
       "2         High                   No  \n",
       "3         High                  Yes  \n",
       "4          Low                   No  \n",
       "...        ...                  ...  \n",
       "6507       Low                  Yes  \n",
       "6508       Low                  Yes  \n",
       "6509      High                  Yes  \n",
       "6510       Low                  Yes  \n",
       "6511       Low                   No  \n",
       "\n",
       "[6512 rows x 11 columns]>"
      ]
     },
     "execution_count": 8,
     "metadata": {},
     "output_type": "execute_result"
    }
   ],
   "source": [
    "test_df.describe"
   ]
  },
  {
   "cell_type": "code",
   "execution_count": 9,
   "metadata": {},
   "outputs": [
    {
     "name": "stdout",
     "output_type": "stream",
     "text": [
      "Unique values in UserID 19536\n",
      "Unique values in realtionship_status 7\n",
      "Unique values in industry 6\n",
      "Unique values in genre 5\n",
      "Unique values in targeted_sex 2\n",
      "Unique values in average_runtime(minutes_per_week) 89\n",
      "Unique values in airtime 3\n",
      "Unique values in airlocation 42\n",
      "Unique values in ratings 120\n",
      "Unique values in expensive 3\n",
      "Unique values in money_back_guarantee 2\n",
      "Unique values in netgain 2\n"
     ]
    }
   ],
   "source": [
    "for i in train_df.columns:\n",
    "    print(\"Unique values in\", i, train_df[i].nunique())"
   ]
  },
  {
   "cell_type": "code",
   "execution_count": 10,
   "metadata": {},
   "outputs": [
    {
     "name": "stdout",
     "output_type": "stream",
     "text": [
      "Unique values in UserID 6512\n",
      "Unique values in realtionship_status 7\n",
      "Unique values in industry 6\n",
      "Unique values in genre 5\n",
      "Unique values in targeted_sex 2\n",
      "Unique values in average_runtime(minutes_per_week) 82\n",
      "Unique values in airtime 3\n",
      "Unique values in airlocation 41\n",
      "Unique values in ratings 93\n",
      "Unique values in expensive 3\n",
      "Unique values in money_back_guarantee 2\n"
     ]
    }
   ],
   "source": [
    "for i in test_df.columns:\n",
    "    print(\"Unique values in\", i, test_df[i].nunique())"
   ]
  },
  {
   "cell_type": "markdown",
   "metadata": {},
   "source": [
    "### Plotting Graphs for various features\n"
   ]
  },
  {
   "cell_type": "code",
   "execution_count": 11,
   "metadata": {},
   "outputs": [
    {
     "data": {
      "text/plain": [
       "0    14886\n",
       "1     4650\n",
       "Name: netgain, dtype: int64"
      ]
     },
     "execution_count": 11,
     "metadata": {},
     "output_type": "execute_result"
    }
   ],
   "source": [
    "train_df.netgain.value_counts()"
   ]
  },
  {
   "cell_type": "code",
   "execution_count": 12,
   "metadata": {},
   "outputs": [
    {
     "data": {
      "image/png": "[encoded data removed]",
      "text/plain": [
       "<Figure size 648x360 with 1 Axes>"
      ]
     },
     "metadata": {
      "needs_background": "light"
     },
     "output_type": "display_data"
    }
   ],
   "source": [
    "plt.figure(figsize=(9,5))\n",
    "train_df.netgain.value_counts().plot.bar(rot=0, color='red')\n",
    "plt.title(\"Target variable Distribution in data\")\n",
    "plt.show()"
   ]
  },
  {
   "cell_type": "code",
   "execution_count": 13,
   "metadata": {
    "scrolled": false
   },
   "outputs": [
    {
     "data": {
      "image/png": "[encoded data removed]",
      "text/plain": [
       "<Figure size 504x432 with 1 Axes>"
      ]
     },
     "metadata": {
      "needs_background": "light"
     },
     "output_type": "display_data"
    },
    {
     "data": {
      "text/plain": [
       "(19536, 12)"
      ]
     },
     "execution_count": 13,
     "metadata": {},
     "output_type": "execute_result"
    }
   ],
   "source": [
    "plt.figure(figsize=(7,6))\n",
    "sns.boxplot(y='average_runtime(minutes_per_week)', data=train_df)\n",
    "plt.show()\n",
    "train_df.shape"
   ]
  },
  {
   "cell_type": "code",
   "execution_count": 14,
   "metadata": {},
   "outputs": [
    {
     "data": {
      "image/png": "[encoded data removed]",
      "text/plain": [
       "<Figure size 432x288 with 1 Axes>"
      ]
     },
     "metadata": {
      "needs_background": "light"
     },
     "output_type": "display_data"
    },
    {
     "data": {
      "text/plain": [
       "(13288, 12)"
      ]
     },
     "execution_count": 14,
     "metadata": {},
     "output_type": "execute_result"
    }
   ],
   "source": [
    "train_df = train_df[(train_df['average_runtime(minutes_per_week)']<53) & (train_df['average_runtime(minutes_per_week)']>35)]\n",
    "sns.boxplot(y='average_runtime(minutes_per_week)', data=train_df)\n",
    "plt.show()\n",
    "train_df.shape"
   ]
  },
  {
   "cell_type": "code",
   "execution_count": 15,
   "metadata": {},
   "outputs": [
    {
     "data": {
      "image/png": "[encoded data removed]",
      "text/plain": [
       "<Figure size 504x432 with 1 Axes>"
      ]
     },
     "metadata": {
      "needs_background": "light"
     },
     "output_type": "display_data"
    }
   ],
   "source": [
    "plt.figure(figsize=(7,6))\n",
    "sns.boxplot(y='ratings', data=train_df)\n",
    "plt.show()"
   ]
  },
  {
   "cell_type": "code",
   "execution_count": 16,
   "metadata": {
    "scrolled": false
   },
   "outputs": [
    {
     "data": {
      "image/png": "[encoded data removed]",
      "text/plain": [
       "<Figure size 504x432 with 1 Axes>"
      ]
     },
     "metadata": {
      "needs_background": "light"
     },
     "output_type": "display_data"
    }
   ],
   "source": [
    "#train_df = train_df[train_df['ratings']<=0.03]\n",
    "\n",
    "train_df = train_df[(train_df['ratings']<=0.03) & (train_df['ratings']>=0.025)]\n",
    "plt.figure(figsize=(7,6))\n",
    "sns.boxplot(y='ratings', data=train_df)\n",
    "plt.show()"
   ]
  },
  {
   "cell_type": "code",
   "execution_count": 17,
   "metadata": {},
   "outputs": [
    {
     "data": {
      "text/plain": [
       "(12115, 12)"
      ]
     },
     "execution_count": 17,
     "metadata": {},
     "output_type": "execute_result"
    }
   ],
   "source": [
    "train_df.shape"
   ]
  },
  {
   "cell_type": "code",
   "execution_count": 18,
   "metadata": {},
   "outputs": [],
   "source": [
    "train_df = train_df.drop('UserID',1)"
   ]
  },
  {
   "cell_type": "code",
   "execution_count": 19,
   "metadata": {},
   "outputs": [
    {
     "data": {
      "image/png": "[encoded data removed]",
      "text/plain": [
       "<Figure size 648x360 with 1 Axes>"
      ]
     },
     "metadata": {
      "needs_background": "light"
     },
     "output_type": "display_data"
    }
   ],
   "source": [
    "plt.figure(figsize=(9,5))\n",
    "train_df.realtionship_status.value_counts().plot.bar()\n",
    "plt.title('The relationship status of the most responsive customers to the advertisement')\n",
    "plt.show()\n"
   ]
  },
  {
   "cell_type": "code",
   "execution_count": 20,
   "metadata": {},
   "outputs": [
    {
     "data": {
      "image/png": "[encoded data removed]",
      "text/plain": [
       "<Figure size 864x504 with 1 Axes>"
      ]
     },
     "metadata": {
      "needs_background": "light"
     },
     "output_type": "display_data"
    }
   ],
   "source": [
    "\n",
    "pd.crosstab(train_df['netgain'], train_df['realtionship_status']).plot(kind='bar',figsize=(12,7),rot=0)\n",
    "plt.title('Bivariate analysis of netgain and realtionship_status of customers')\n",
    "plt.show()"
   ]
  },
  {
   "cell_type": "code",
   "execution_count": 21,
   "metadata": {},
   "outputs": [
    {
     "data": {
      "image/png": "[encoded data removed]",
      "text/plain": [
       "<Figure size 864x504 with 1 Axes>"
      ]
     },
     "metadata": {
      "needs_background": "light"
     },
     "output_type": "display_data"
    }
   ],
   "source": [
    "pd.crosstab(train_df['netgain'], train_df['industry']).plot(kind='bar',figsize=(12,7),rot=0)\n",
    "plt.title('Bivariate analysis of netgain and type of industry')\n",
    "plt.show()"
   ]
  },
  {
   "cell_type": "code",
   "execution_count": 22,
   "metadata": {},
   "outputs": [
    {
     "data": {
      "image/png": "[encoded data removed]",
      "text/plain": [
       "<Figure size 864x504 with 1 Axes>"
      ]
     },
     "metadata": {
      "needs_background": "light"
     },
     "output_type": "display_data"
    }
   ],
   "source": [
    "pd.crosstab(train_df['netgain'], train_df['airtime']).plot(kind='bar',figsize=(12,7),rot=0)\n",
    "plt.title('Bivariate analysis of netgain and time of the advertisement')\n",
    "plt.show()"
   ]
  },
  {
   "cell_type": "code",
   "execution_count": 23,
   "metadata": {},
   "outputs": [
    {
     "data": {
      "text/html": [
       "<div>\n",
       "<style scoped>\n",
       "    .dataframe tbody tr th:only-of-type {\n",
       "        vertical-align: middle;\n",
       "    }\n",
       "\n",
       "    .dataframe tbody tr th {\n",
       "        vertical-align: top;\n",
       "    }\n",
       "\n",
       "    .dataframe thead th {\n",
       "        text-align: right;\n",
       "    }\n",
       "</style>\n",
       "<table border=\"1\" class=\"dataframe\">\n",
       "  <thead>\n",
       "    <tr style=\"text-align: right;\">\n",
       "      <th>airlocation</th>\n",
       "      <th>Cambodia</th>\n",
       "      <th>Canada</th>\n",
       "      <th>China</th>\n",
       "      <th>Columbia</th>\n",
       "      <th>Cuba</th>\n",
       "      <th>Dominican-Republic</th>\n",
       "      <th>Ecuador</th>\n",
       "      <th>El-Salvador</th>\n",
       "      <th>England</th>\n",
       "      <th>France</th>\n",
       "      <th>...</th>\n",
       "      <th>Portugal</th>\n",
       "      <th>Puerto-Rico</th>\n",
       "      <th>Scotland</th>\n",
       "      <th>South</th>\n",
       "      <th>Taiwan</th>\n",
       "      <th>Thailand</th>\n",
       "      <th>Trinadad&amp;Tobago</th>\n",
       "      <th>United-States</th>\n",
       "      <th>Vietnam</th>\n",
       "      <th>Yugoslavia</th>\n",
       "    </tr>\n",
       "    <tr>\n",
       "      <th>netgain</th>\n",
       "      <th></th>\n",
       "      <th></th>\n",
       "      <th></th>\n",
       "      <th></th>\n",
       "      <th></th>\n",
       "      <th></th>\n",
       "      <th></th>\n",
       "      <th></th>\n",
       "      <th></th>\n",
       "      <th></th>\n",
       "      <th></th>\n",
       "      <th></th>\n",
       "      <th></th>\n",
       "      <th></th>\n",
       "      <th></th>\n",
       "      <th></th>\n",
       "      <th></th>\n",
       "      <th></th>\n",
       "      <th></th>\n",
       "      <th></th>\n",
       "      <th></th>\n",
       "    </tr>\n",
       "  </thead>\n",
       "  <tbody>\n",
       "    <tr>\n",
       "      <td>0</td>\n",
       "      <td>10</td>\n",
       "      <td>38</td>\n",
       "      <td>14</td>\n",
       "      <td>24</td>\n",
       "      <td>32</td>\n",
       "      <td>26</td>\n",
       "      <td>10</td>\n",
       "      <td>32</td>\n",
       "      <td>26</td>\n",
       "      <td>11</td>\n",
       "      <td>...</td>\n",
       "      <td>15</td>\n",
       "      <td>36</td>\n",
       "      <td>2</td>\n",
       "      <td>29</td>\n",
       "      <td>14</td>\n",
       "      <td>5</td>\n",
       "      <td>7</td>\n",
       "      <td>8440</td>\n",
       "      <td>28</td>\n",
       "      <td>9</td>\n",
       "    </tr>\n",
       "    <tr>\n",
       "      <td>1</td>\n",
       "      <td>1</td>\n",
       "      <td>5</td>\n",
       "      <td>7</td>\n",
       "      <td>1</td>\n",
       "      <td>14</td>\n",
       "      <td>2</td>\n",
       "      <td>3</td>\n",
       "      <td>6</td>\n",
       "      <td>7</td>\n",
       "      <td>5</td>\n",
       "      <td>...</td>\n",
       "      <td>1</td>\n",
       "      <td>5</td>\n",
       "      <td>2</td>\n",
       "      <td>2</td>\n",
       "      <td>5</td>\n",
       "      <td>0</td>\n",
       "      <td>1</td>\n",
       "      <td>2358</td>\n",
       "      <td>1</td>\n",
       "      <td>4</td>\n",
       "    </tr>\n",
       "  </tbody>\n",
       "</table>\n",
       "<p>2 rows × 41 columns</p>\n",
       "</div>"
      ],
      "text/plain": [
       "airlocation  Cambodia  Canada  China  Columbia  Cuba  Dominican-Republic  \\\n",
       "netgain                                                                    \n",
       "0                  10      38     14        24    32                  26   \n",
       "1                   1       5      7         1    14                   2   \n",
       "\n",
       "airlocation  Ecuador  El-Salvador  England  France  ...  Portugal  \\\n",
       "netgain                                             ...             \n",
       "0                 10           32       26      11  ...        15   \n",
       "1                  3            6        7       5  ...         1   \n",
       "\n",
       "airlocation  Puerto-Rico  Scotland  South  Taiwan  Thailand  Trinadad&Tobago  \\\n",
       "netgain                                                                        \n",
       "0                     36         2     29      14         5                7   \n",
       "1                      5         2      2       5         0                1   \n",
       "\n",
       "airlocation  United-States  Vietnam  Yugoslavia  \n",
       "netgain                                          \n",
       "0                     8440       28           9  \n",
       "1                     2358        1           4  \n",
       "\n",
       "[2 rows x 41 columns]"
      ]
     },
     "execution_count": 23,
     "metadata": {},
     "output_type": "execute_result"
    }
   ],
   "source": [
    "pd.crosstab(train_df['netgain'], train_df['airlocation'])"
   ]
  },
  {
   "cell_type": "code",
   "execution_count": 24,
   "metadata": {},
   "outputs": [
    {
     "data": {
      "image/png": "[encoded data removed]",
      "text/plain": [
       "<Figure size 864x504 with 1 Axes>"
      ]
     },
     "metadata": {
      "needs_background": "light"
     },
     "output_type": "display_data"
    }
   ],
   "source": [
    "pd.crosstab(train_df['netgain'], train_df['expensive']).plot(kind='bar',figsize=(12,7),rot=0)\n",
    "plt.title('analysis of netgain and cost of Ads')\n",
    "plt.show()"
   ]
  },
  {
   "cell_type": "code",
   "execution_count": 25,
   "metadata": {
    "scrolled": false
   },
   "outputs": [
    {
     "data": {
      "image/png": "[encoded data removed]",
      "text/plain": [
       "<Figure size 864x504 with 1 Axes>"
      ]
     },
     "metadata": {
      "needs_background": "light"
     },
     "output_type": "display_data"
    }
   ],
   "source": [
    "pd.crosstab(train_df['netgain'], train_df['money_back_guarantee']).plot(kind='bar',figsize=(12,7),rot=0)\n",
    "plt.title('analysis of netgain vs money back gurantee')\n",
    "plt.show()"
   ]
  },
  {
   "cell_type": "code",
   "execution_count": 26,
   "metadata": {},
   "outputs": [],
   "source": [
    "train_df['targeted_sex'] = train_df['targeted_sex'].replace(['Male','Female'],[0,1])\n",
    "test_df['targeted_sex'] = test_df['targeted_sex'].replace(['Male','Female'],[0,1])"
   ]
  },
  {
   "cell_type": "code",
   "execution_count": 27,
   "metadata": {},
   "outputs": [
    {
     "data": {
      "image/png": "[encoded data removed]",
      "text/plain": [
       "<Figure size 504x360 with 1 Axes>"
      ]
     },
     "metadata": {
      "needs_background": "light"
     },
     "output_type": "display_data"
    }
   ],
   "source": [
    "train_df.targeted_sex.value_counts(normalize=True).plot.bar(figsize=(7,5),color='red',rot=0)\n",
    "plt.title(\"Gender Distribution in data\")\n",
    "plt.show()"
   ]
  },
  {
   "cell_type": "code",
   "execution_count": 28,
   "metadata": {},
   "outputs": [
    {
     "data": {
      "image/png": "[encoded data removed]",
      "text/plain": [
       "<Figure size 504x360 with 1 Axes>"
      ]
     },
     "metadata": {
      "needs_background": "light"
     },
     "output_type": "display_data"
    }
   ],
   "source": [
    "df_gain = train_df[train_df['netgain']==1]\n",
    "df_gain.targeted_sex.value_counts(normalize=True).plot.bar(figsize=(7,5),color='orange',rot=0)\n",
    "plt.title(\"Gender Distribution where campaign has gained\")\n",
    "plt.show()"
   ]
  },
  {
   "cell_type": "code",
   "execution_count": 29,
   "metadata": {},
   "outputs": [
    {
     "data": {
      "image/png": "[encoded data removed]",
      "text/plain": [
       "<Figure size 504x360 with 1 Axes>"
      ]
     },
     "metadata": {
      "needs_background": "light"
     },
     "output_type": "display_data"
    }
   ],
   "source": [
    "df_loss = train_df[train_df['netgain']==0]\n",
    "df_loss.targeted_sex.value_counts(normalize=True).plot.bar(figsize=(7,5),color='green',rot=0)\n",
    "plt.title(\"Gender Distribution where campaign has failed\")\n",
    "plt.show()"
   ]
  },
  {
   "cell_type": "code",
   "execution_count": 30,
   "metadata": {},
   "outputs": [
    {
     "name": "stdout",
     "output_type": "stream",
     "text": [
      "average_runtime according to Netgain\n"
     ]
    },
    {
     "data": {
      "image/png": "[encoded data removed]",
      "text/plain": [
       "<Figure size 910.125x216 with 1 Axes>"
      ]
     },
     "metadata": {
      "needs_background": "light"
     },
     "output_type": "display_data"
    }
   ],
   "source": [
    "print(\"average_runtime according to Netgain\")\n",
    "\n",
    "facetgrid = sns.FacetGrid(train_df,hue=\"netgain\",aspect = 4)\n",
    "facetgrid.map(sns.kdeplot,\"average_runtime(minutes_per_week)\",shade = True)\n",
    "facetgrid.set(xlim = (0,train_df[\"average_runtime(minutes_per_week)\"].max()))\n",
    "facetgrid.add_legend()\n",
    "plt.show()"
   ]
  },
  {
   "cell_type": "code",
   "execution_count": 31,
   "metadata": {},
   "outputs": [
    {
     "data": {
      "image/png": "[encoded data removed]",
      "text/plain": [
       "<Figure size 432x576 with 1 Axes>"
      ]
     },
     "metadata": {},
     "output_type": "display_data"
    }
   ],
   "source": [
    "plt.rcParams['figure.figsize']=(6,8)\n",
    "\n",
    "df_gain['expensive'].value_counts().plot.pie(y=\"expensive\",startangle=50,shadow=True,autopct=\"%0.1f%%\")\n",
    "plt.title('distribution of how expensive the product or service is that the ad is discussing')\n",
    "\n",
    "plt.axis('on');"
   ]
  },
  {
   "cell_type": "code",
   "execution_count": 32,
   "metadata": {
    "scrolled": false
   },
   "outputs": [
    {
     "data": {
      "image/png": "[encoded data removed]",
      "text/plain": [
       "<Figure size 432x576 with 1 Axes>"
      ]
     },
     "metadata": {},
     "output_type": "display_data"
    }
   ],
   "source": [
    "plt.rcParams['figure.figsize']=(6,8)\n",
    "#color = ['yellowgreen','gold',\"lightskyblue\"]\n",
    "df_gain['industry'].value_counts().plot.pie(y=\"industry\",explode=(0.01,0.01,0.01,0.01,0.01,0.01),startangle=50,shadow=True,autopct=\"%0.1f%%\")\n",
    "plt.title('Distribution of Industry')\n",
    "plt.axis('on');"
   ]
  },
  {
   "cell_type": "code",
   "execution_count": 33,
   "metadata": {},
   "outputs": [
    {
     "data": {
      "image/png": "[encoded data removed]",
      "text/plain": [
       "<Figure size 864x576 with 1 Axes>"
      ]
     },
     "metadata": {},
     "output_type": "display_data"
    }
   ],
   "source": [
    "plt.rcParams['figure.figsize']=(12,8)\n",
    "#color = ['yellowgreen','gold',\"lightskyblue\"]\n",
    "df_gain['airlocation'].value_counts().plot.pie(y=\"airlocation\",startangle=50,shadow=True,autopct=\"%0.1f%%\")\n",
    "plt.title('Distribution of Airlocation')\n",
    "plt.axis('on');"
   ]
  },
  {
   "cell_type": "code",
   "execution_count": 34,
   "metadata": {},
   "outputs": [
    {
     "data": {
      "image/png": "[encoded data removed]",
      "text/plain": [
       "<Figure size 864x576 with 1 Axes>"
      ]
     },
     "metadata": {},
     "output_type": "display_data"
    }
   ],
   "source": [
    "plt.rcParams['figure.figsize']=(12,8)\n",
    "#color = ['yellowgreen','gold',\"lightskyblue\"]\n",
    "df_gain['genre'].value_counts().plot.pie(y=\"genre\",startangle=50,shadow=True,autopct=\"%0.1f%%\")\n",
    "plt.title('Distribution of Genre')\n",
    "plt.axis('on');"
   ]
  },
  {
   "cell_type": "markdown",
   "metadata": {},
   "source": [
    "### Plot a correlation matrix, remove the two least correlated features"
   ]
  },
  {
   "cell_type": "code",
   "execution_count": 35,
   "metadata": {},
   "outputs": [
    {
     "name": "stdout",
     "output_type": "stream",
     "text": [
      "Correlation matrix-\n"
     ]
    },
    {
     "data": {
      "text/plain": [
       "<AxesSubplot:>"
      ]
     },
     "execution_count": 35,
     "metadata": {},
     "output_type": "execute_result"
    },
    {
     "data": {
      "image/png": "[encoded data removed]",
      "text/plain": [
       "<Figure size 864x720 with 2 Axes>"
      ]
     },
     "metadata": {
      "needs_background": "light"
     },
     "output_type": "display_data"
    }
   ],
   "source": [
    "plt.figure(figsize=(12,10))\n",
    "print(\"Correlation matrix-\")\n",
    "plt.rcParams['figure.figsize']=(8,6)\n",
    "sns.heatmap(train_df.corr(),cmap='Spectral',annot = True)"
   ]
  },
  {
   "cell_type": "code",
   "execution_count": 36,
   "metadata": {},
   "outputs": [
    {
     "name": "stdout",
     "output_type": "stream",
     "text": [
      "<class 'pandas.core.frame.DataFrame'>\n",
      "Int64Index: 12115 entries, 0 to 19535\n",
      "Data columns (total 11 columns):\n",
      "realtionship_status                  12115 non-null object\n",
      "industry                             12115 non-null object\n",
      "genre                                12115 non-null object\n",
      "targeted_sex                         12115 non-null int64\n",
      "average_runtime(minutes_per_week)    12115 non-null int64\n",
      "airtime                              12115 non-null object\n",
      "airlocation                          12115 non-null object\n",
      "ratings                              12115 non-null float64\n",
      "expensive                            12115 non-null object\n",
      "money_back_guarantee                 12115 non-null object\n",
      "netgain                              12115 non-null int64\n",
      "dtypes: float64(1), int64(3), object(7)\n",
      "memory usage: 1.1+ MB\n"
     ]
    }
   ],
   "source": [
    "train_df.info()"
   ]
  },
  {
   "cell_type": "code",
   "execution_count": 37,
   "metadata": {},
   "outputs": [],
   "source": [
    "test_df = test_df.drop('UserID',1)"
   ]
  },
  {
   "cell_type": "code",
   "execution_count": 38,
   "metadata": {},
   "outputs": [
    {
     "name": "stdout",
     "output_type": "stream",
     "text": [
      "(12115, 11) (6512, 10)\n"
     ]
    }
   ],
   "source": [
    "print(train_df.shape,test_df.shape)"
   ]
  },
  {
   "cell_type": "raw",
   "metadata": {},
   "source": [
    "#converting all categorical values using get_dummies to numerical\n",
    "\n",
    "train_df['label'] = 'train'\n",
    "test_df['label'] = 'test'\n",
    "\n",
    "concat_df = pd.concat([train_df,test_df])\n",
    "\n",
    "features_df = pd.get_dummies(concat_df, columns=['realtionship_status', 'industry', 'genre', 'airtime', 'airlocation','expensive', 'money_back_guarantee'], drop_first=True)\n",
    "\n",
    "\n",
    "train_df = features_df[features_df['label']=='train']\n",
    "test_df = features_df[features_df['label']=='test']\n",
    "\n",
    "train_df = train_df.drop('label',1)\n",
    "test_df = test_df.drop('label',1)"
   ]
  },
  {
   "cell_type": "code",
   "execution_count": 39,
   "metadata": {},
   "outputs": [
    {
     "data": {
      "text/plain": [
       "Index(['realtionship_status', 'industry', 'genre', 'targeted_sex',\n",
       "       'average_runtime(minutes_per_week)', 'airtime', 'airlocation',\n",
       "       'ratings', 'expensive', 'money_back_guarantee', 'netgain'],\n",
       "      dtype='object')"
      ]
     },
     "execution_count": 39,
     "metadata": {},
     "output_type": "execute_result"
    }
   ],
   "source": [
    "train_df.columns"
   ]
  },
  {
   "cell_type": "code",
   "execution_count": 40,
   "metadata": {},
   "outputs": [],
   "source": [
    "cols = ['realtionship_status', 'industry','genre','airtime', 'airlocation','expensive', 'money_back_guarantee']\n",
    "for col in cols:\n",
    "    train_df[col] =train_df[col].astype('category').cat.codes"
   ]
  },
  {
   "cell_type": "code",
   "execution_count": 41,
   "metadata": {},
   "outputs": [],
   "source": [
    "colss = ['realtionship_status', 'industry','genre','airtime', 'airlocation','expensive', 'money_back_guarantee']\n",
    "for col in colss:\n",
    "    test_df[col] =test_df[col].astype('category').cat.codes"
   ]
  },
  {
   "cell_type": "code",
   "execution_count": 42,
   "metadata": {},
   "outputs": [
    {
     "name": "stdout",
     "output_type": "stream",
     "text": [
      "<class 'pandas.core.frame.DataFrame'>\n",
      "Int64Index: 12115 entries, 0 to 19535\n",
      "Data columns (total 11 columns):\n",
      "realtionship_status                  12115 non-null int8\n",
      "industry                             12115 non-null int8\n",
      "genre                                12115 non-null int8\n",
      "targeted_sex                         12115 non-null int64\n",
      "average_runtime(minutes_per_week)    12115 non-null int64\n",
      "airtime                              12115 non-null int8\n",
      "airlocation                          12115 non-null int8\n",
      "ratings                              12115 non-null float64\n",
      "expensive                            12115 non-null int8\n",
      "money_back_guarantee                 12115 non-null int8\n",
      "netgain                              12115 non-null int64\n",
      "dtypes: float64(1), int64(3), int8(7)\n",
      "memory usage: 556.1 KB\n",
      "<class 'pandas.core.frame.DataFrame'>\n",
      "RangeIndex: 6512 entries, 0 to 6511\n",
      "Data columns (total 10 columns):\n",
      "realtionship_status                  6512 non-null int8\n",
      "industry                             6512 non-null int8\n",
      "genre                                6512 non-null int8\n",
      "targeted_sex                         6512 non-null int64\n",
      "average_runtime(minutes_per_week)    6512 non-null int64\n",
      "airtime                              6512 non-null int8\n",
      "airlocation                          6512 non-null int8\n",
      "ratings                              6512 non-null float64\n",
      "expensive                            6512 non-null int8\n",
      "money_back_guarantee                 6512 non-null int8\n",
      "dtypes: float64(1), int64(2), int8(7)\n",
      "memory usage: 197.3 KB\n",
      "None None\n"
     ]
    }
   ],
   "source": [
    "print(train_df.info(), test_df.info())"
   ]
  },
  {
   "cell_type": "code",
   "execution_count": 43,
   "metadata": {},
   "outputs": [
    {
     "name": "stdout",
     "output_type": "stream",
     "text": [
      "(12115, 11) (6512, 10)\n"
     ]
    }
   ],
   "source": [
    "print(train_df.shape, test_df.shape)"
   ]
  },
  {
   "cell_type": "code",
   "execution_count": 44,
   "metadata": {},
   "outputs": [],
   "source": [
    "X = train_df.drop('netgain',1)\n",
    "y = train_df['netgain']"
   ]
  },
  {
   "cell_type": "code",
   "execution_count": 45,
   "metadata": {},
   "outputs": [],
   "source": [
    "X_train, X_test, y_train, y_test = train_test_split(X,y,test_size=0.20, random_state=0)\n"
   ]
  },
  {
   "cell_type": "code",
   "execution_count": 46,
   "metadata": {},
   "outputs": [
    {
     "name": "stdout",
     "output_type": "stream",
     "text": [
      "Accuracy score is 78.0\n",
      "              precision    recall  f1-score   support\n",
      "\n",
      "           0       0.96      0.79      0.87      2271\n",
      "           1       0.15      0.55      0.24       152\n",
      "\n",
      "    accuracy                           0.78      2423\n",
      "   macro avg       0.56      0.67      0.55      2423\n",
      "weighted avg       0.91      0.78      0.83      2423\n",
      "\n"
     ]
    }
   ],
   "source": [
    "# initialize the logistic regression model\n",
    "logisticRegression = LogisticRegression()\n",
    "\n",
    "# fit the data\n",
    "logisticRegression.fit(X_train, y_train)\n",
    "\n",
    "# find out the predictions\n",
    "predictions = logisticRegression.predict(X_test)\n",
    "\n",
    "# print accuracy and auc_roc score\n",
    "print(f\"Accuracy score is {100*accuracy_score(y_test,predictions).round(2)}\")\n",
    "print(classification_report(predictions, y_test))\n",
    "# logisticRegression.score(y_test,predictions)"
   ]
  },
  {
   "cell_type": "code",
   "execution_count": 47,
   "metadata": {},
   "outputs": [
    {
     "name": "stdout",
     "output_type": "stream",
     "text": [
      "              precision    recall  f1-score   support\n",
      "\n",
      "           0       0.90      0.81      0.86      2072\n",
      "           1       0.31      0.49      0.38       351\n",
      "\n",
      "    accuracy                           0.77      2423\n",
      "   macro avg       0.61      0.65      0.62      2423\n",
      "weighted avg       0.82      0.77      0.79      2423\n",
      "\n"
     ]
    }
   ],
   "source": [
    "rfc=RandomForestClassifier(n_estimators=10,criterion='entropy',random_state=0)\n",
    "rfc.fit(X_train, y_train)\n",
    "\n",
    "ypred_rfc = rfc.predict(X_test)\n",
    "print(classification_report(ypred_rfc, y_test))"
   ]
  },
  {
   "cell_type": "code",
   "execution_count": 48,
   "metadata": {},
   "outputs": [
    {
     "name": "stdout",
     "output_type": "stream",
     "text": [
      "              precision    recall  f1-score   support\n",
      "\n",
      "           0       0.90      0.81      0.85      2078\n",
      "           1       0.29      0.48      0.36       345\n",
      "\n",
      "    accuracy                           0.76      2423\n",
      "   macro avg       0.60      0.64      0.61      2423\n",
      "weighted avg       0.82      0.76      0.78      2423\n",
      "\n"
     ]
    }
   ],
   "source": [
    "dtc=DecisionTreeClassifier()\n",
    "dtc.fit(X_train, y_train)\n",
    "\n",
    "ypred_dtc = dtc.predict(X_test)\n",
    "print(classification_report(ypred_dtc, y_test))"
   ]
  },
  {
   "cell_type": "code",
   "execution_count": 49,
   "metadata": {
    "scrolled": true
   },
   "outputs": [
    {
     "name": "stdout",
     "output_type": "stream",
     "text": [
      "              precision    recall  f1-score   support\n",
      "\n",
      "           0       0.93      0.81      0.87      2146\n",
      "           1       0.27      0.54      0.36       277\n",
      "\n",
      "    accuracy                           0.78      2423\n",
      "   macro avg       0.60      0.67      0.61      2423\n",
      "weighted avg       0.86      0.78      0.81      2423\n",
      "\n"
     ]
    }
   ],
   "source": [
    "\n",
    "\n",
    "clf_xgb=XGBClassifier()\n",
    "clf_xgb.fit(X_train,y_train)\n",
    "\n",
    "ypred_xgb = clf_xgb.predict(X_test)\n",
    "print(classification_report(ypred_xgb, y_test))"
   ]
  },
  {
   "cell_type": "code",
   "execution_count": 50,
   "metadata": {},
   "outputs": [
    {
     "data": {
      "text/html": [
       "<div>\n",
       "<style scoped>\n",
       "    .dataframe tbody tr th:only-of-type {\n",
       "        vertical-align: middle;\n",
       "    }\n",
       "\n",
       "    .dataframe tbody tr th {\n",
       "        vertical-align: top;\n",
       "    }\n",
       "\n",
       "    .dataframe thead th {\n",
       "        text-align: right;\n",
       "    }\n",
       "</style>\n",
       "<table border=\"1\" class=\"dataframe\">\n",
       "  <thead>\n",
       "    <tr style=\"text-align: right;\">\n",
       "      <th></th>\n",
       "      <th>realtionship_status</th>\n",
       "      <th>industry</th>\n",
       "      <th>genre</th>\n",
       "      <th>targeted_sex</th>\n",
       "      <th>average_runtime(minutes_per_week)</th>\n",
       "      <th>airtime</th>\n",
       "      <th>airlocation</th>\n",
       "      <th>ratings</th>\n",
       "      <th>expensive</th>\n",
       "      <th>money_back_guarantee</th>\n",
       "    </tr>\n",
       "  </thead>\n",
       "  <tbody>\n",
       "    <tr>\n",
       "      <td>18565</td>\n",
       "      <td>4</td>\n",
       "      <td>0</td>\n",
       "      <td>0</td>\n",
       "      <td>0</td>\n",
       "      <td>40</td>\n",
       "      <td>1</td>\n",
       "      <td>38</td>\n",
       "      <td>0.027465</td>\n",
       "      <td>1</td>\n",
       "      <td>0</td>\n",
       "    </tr>\n",
       "    <tr>\n",
       "      <td>2030</td>\n",
       "      <td>4</td>\n",
       "      <td>2</td>\n",
       "      <td>3</td>\n",
       "      <td>1</td>\n",
       "      <td>40</td>\n",
       "      <td>1</td>\n",
       "      <td>29</td>\n",
       "      <td>0.027465</td>\n",
       "      <td>0</td>\n",
       "      <td>1</td>\n",
       "    </tr>\n",
       "    <tr>\n",
       "      <td>16164</td>\n",
       "      <td>2</td>\n",
       "      <td>4</td>\n",
       "      <td>0</td>\n",
       "      <td>0</td>\n",
       "      <td>40</td>\n",
       "      <td>2</td>\n",
       "      <td>38</td>\n",
       "      <td>0.027465</td>\n",
       "      <td>2</td>\n",
       "      <td>0</td>\n",
       "    </tr>\n",
       "    <tr>\n",
       "      <td>4635</td>\n",
       "      <td>2</td>\n",
       "      <td>4</td>\n",
       "      <td>0</td>\n",
       "      <td>0</td>\n",
       "      <td>45</td>\n",
       "      <td>2</td>\n",
       "      <td>38</td>\n",
       "      <td>0.027465</td>\n",
       "      <td>1</td>\n",
       "      <td>0</td>\n",
       "    </tr>\n",
       "    <tr>\n",
       "      <td>7250</td>\n",
       "      <td>5</td>\n",
       "      <td>0</td>\n",
       "      <td>4</td>\n",
       "      <td>1</td>\n",
       "      <td>36</td>\n",
       "      <td>2</td>\n",
       "      <td>38</td>\n",
       "      <td>0.027465</td>\n",
       "      <td>1</td>\n",
       "      <td>0</td>\n",
       "    </tr>\n",
       "  </tbody>\n",
       "</table>\n",
       "</div>"
      ],
      "text/plain": [
       "       realtionship_status  industry  genre  targeted_sex  \\\n",
       "18565                    4         0      0             0   \n",
       "2030                     4         2      3             1   \n",
       "16164                    2         4      0             0   \n",
       "4635                     2         4      0             0   \n",
       "7250                     5         0      4             1   \n",
       "\n",
       "       average_runtime(minutes_per_week)  airtime  airlocation   ratings  \\\n",
       "18565                                 40        1           38  0.027465   \n",
       "2030                                  40        1           29  0.027465   \n",
       "16164                                 40        2           38  0.027465   \n",
       "4635                                  45        2           38  0.027465   \n",
       "7250                                  36        2           38  0.027465   \n",
       "\n",
       "       expensive  money_back_guarantee  \n",
       "18565          1                     0  \n",
       "2030           0                     1  \n",
       "16164          2                     0  \n",
       "4635           1                     0  \n",
       "7250           1                     0  "
      ]
     },
     "execution_count": 50,
     "metadata": {},
     "output_type": "execute_result"
    }
   ],
   "source": [
    "X_train.head()"
   ]
  },
  {
   "cell_type": "code",
   "execution_count": 51,
   "metadata": {},
   "outputs": [
    {
     "data": {
      "text/plain": [
       "1    7651\n",
       "0    7651\n",
       "Name: netgain, dtype: int64"
      ]
     },
     "execution_count": 51,
     "metadata": {},
     "output_type": "execute_result"
    }
   ],
   "source": [
    "#combining train features and target\n",
    "df = pd.concat([X_train,y_train],axis=1)\n",
    "\n",
    "# separating the two classes\n",
    "df_majority = df[df['netgain']==0]\n",
    "df_minority = df[df['netgain']==1]\n",
    "\n",
    "# upsample the minority class\n",
    "df_minority_upsampled = resample(df_minority,replace=True,n_samples=y_train.value_counts()[0],random_state = 123)\n",
    "\n",
    "# Combine the two class data and check for the valu counts of each class\n",
    "balanced_df = pd.concat([df_minority_upsampled,df_majority])\n",
    "balanced_df = shuffle(balanced_df)\n",
    "balanced_df.netgain.value_counts()"
   ]
  },
  {
   "cell_type": "code",
   "execution_count": 52,
   "metadata": {},
   "outputs": [],
   "source": [
    "X_trainn = balanced_df.drop('netgain',1)\n",
    "y_trainn = balanced_df['netgain']"
   ]
  },
  {
   "cell_type": "code",
   "execution_count": 53,
   "metadata": {},
   "outputs": [
    {
     "name": "stdout",
     "output_type": "stream",
     "text": [
      "              precision    recall  f1-score   support\n",
      "\n",
      "           0       0.90      0.81      0.85      2078\n",
      "           1       0.29      0.48      0.36       345\n",
      "\n",
      "    accuracy                           0.76      2423\n",
      "   macro avg       0.60      0.64      0.61      2423\n",
      "weighted avg       0.82      0.76      0.78      2423\n",
      "\n"
     ]
    }
   ],
   "source": [
    "logisticRegression.fit(X_trainn, y_trainn)\n",
    "logistic_pred = dtc.predict(X_test)\n",
    "print(classification_report(logistic_pred, y_test))"
   ]
  },
  {
   "cell_type": "code",
   "execution_count": 54,
   "metadata": {},
   "outputs": [
    {
     "name": "stdout",
     "output_type": "stream",
     "text": [
      "              precision    recall  f1-score   support\n",
      "\n",
      "           0       0.67      0.90      0.77      1389\n",
      "           1       0.75      0.41      0.53      1034\n",
      "\n",
      "    accuracy                           0.69      2423\n",
      "   macro avg       0.71      0.65      0.65      2423\n",
      "weighted avg       0.71      0.69      0.67      2423\n",
      "\n"
     ]
    }
   ],
   "source": [
    "dtc.fit(X_trainn, y_trainn)\n",
    "\n",
    "ypred_dtc1 = dtc.predict(X_test)\n",
    "print(classification_report(ypred_dtc1, y_test))"
   ]
  },
  {
   "cell_type": "code",
   "execution_count": 55,
   "metadata": {},
   "outputs": [
    {
     "name": "stdout",
     "output_type": "stream",
     "text": [
      "              precision    recall  f1-score   support\n",
      "\n",
      "           0       0.67      0.91      0.77      1379\n",
      "           1       0.77      0.41      0.53      1044\n",
      "\n",
      "    accuracy                           0.69      2423\n",
      "   macro avg       0.72      0.66      0.65      2423\n",
      "weighted avg       0.71      0.69      0.67      2423\n",
      "\n"
     ]
    }
   ],
   "source": [
    "rfc.fit(X_trainn, y_trainn)\n",
    "\n",
    "ypred_rfc1 = rfc.predict(X_test)\n",
    "print(classification_report(ypred_rfc1, y_test))"
   ]
  },
  {
   "cell_type": "raw",
   "metadata": {},
   "source": [
    "from sklearn.model_selection import GridSearchCV, RandomizedSearchCV\n",
    "\n",
    "param_tuning = {\n",
    "        'learning_rate': [0.01, 0.1],\n",
    "        'max_depth': [3, 5, 7, 10],\n",
    "        'min_child_weight': [1, 3, 5],\n",
    "        'subsample': [0.5, 0.7],\n",
    "        'colsample_bytree': [0.5, 0.7],\n",
    "        'n_estimators' : [100, 200, 500]\n",
    "}\n",
    "xgb_model = XGBClassifier()\n",
    "\n",
    "gsearch = GridSearchCV(estimator = xgb_model,\n",
    "                           param_grid = param_tuning,                        \n",
    "                           \n",
    "                           cv = 5,\n",
    "                           n_jobs = -1)\n",
    "\n",
    "gsearch.fit(X_trainn,y_trainn)\n",
    "\n",
    "ypred_xgb1 = gsearch.predict(X_test)\n",
    "print(classification_report(ypred_xgb1, y_test))"
   ]
  },
  {
   "cell_type": "code",
   "execution_count": 58,
   "metadata": {},
   "outputs": [
    {
     "name": "stdout",
     "output_type": "stream",
     "text": [
      "              precision    recall  f1-score   support\n",
      "\n",
      "           0       0.68      0.93      0.79      1363\n",
      "           1       0.83      0.44      0.57      1060\n",
      "\n",
      "    accuracy                           0.72      2423\n",
      "   macro avg       0.76      0.68      0.68      2423\n",
      "weighted avg       0.75      0.72      0.69      2423\n",
      "\n"
     ]
    }
   ],
   "source": [
    "from sklearn.model_selection import GridSearchCV, RandomizedSearchCV\n",
    "\n",
    "param_tuning = {\n",
    "        'learning_rate': [0.01, 0.1],\n",
    "        'max_depth': [3, 5, 7],\n",
    "        'min_child_weight': [1, 3],\n",
    "        'subsample': [0.5, 0.7],\n",
    "        'colsample_bytree': [0.5, 0.7],\n",
    "        'n_estimators' : [100, 200]\n",
    "}\n",
    "xgb_model = XGBClassifier()\n",
    "\n",
    "gsearch = RandomizedSearchCV(estimator = xgb_model,\n",
    "                           param_distributions  = param_tuning,                        \n",
    "                           \n",
    "                           cv = 5,\n",
    "                           n_jobs = -1)\n",
    "\n",
    "gsearch.fit(X_trainn,y_trainn)\n",
    "\n",
    "ypred_xgb1 = gsearch.predict(X_test)\n",
    "print(classification_report(ypred_xgb1, y_test))"
   ]
  },
  {
   "cell_type": "code",
   "execution_count": 59,
   "metadata": {},
   "outputs": [
    {
     "name": "stdout",
     "output_type": "stream",
     "text": [
      "              precision    recall  f1-score   support\n",
      "\n",
      "           0       0.69      0.93      0.79      1382\n",
      "           1       0.82      0.44      0.57      1041\n",
      "\n",
      "    accuracy                           0.72      2423\n",
      "   macro avg       0.76      0.69      0.68      2423\n",
      "weighted avg       0.75      0.72      0.70      2423\n",
      "\n"
     ]
    }
   ],
   "source": [
    "gb_clf = GradientBoostingClassifier(random_state=0)\n",
    "\n",
    "gb_clf.fit(X_trainn, y_trainn)\n",
    "gb_pred = gb_clf.predict(X_test)\n",
    "print(classification_report(gb_pred, y_test))"
   ]
  },
  {
   "cell_type": "code",
   "execution_count": 60,
   "metadata": {},
   "outputs": [
    {
     "name": "stdout",
     "output_type": "stream",
     "text": [
      "              precision    recall  f1-score   support\n",
      "\n",
      "           0       0.93      0.68      0.78      1866\n",
      "           1       0.43      0.82      0.57       557\n",
      "\n",
      "    accuracy                           0.71      2423\n",
      "   macro avg       0.68      0.75      0.68      2423\n",
      "weighted avg       0.81      0.71      0.73      2423\n",
      "\n"
     ]
    }
   ],
   "source": [
    "clf_ada = AdaBoostClassifier(n_estimators=50)\n",
    "clf_ada.fit(X_trainn, y_trainn)\n",
    "\n",
    "ypred_ada = clf_ada.predict(X_test)\n",
    "\n",
    "print(classification_report(y_test, ypred_ada))"
   ]
  },
  {
   "cell_type": "code",
   "execution_count": 61,
   "metadata": {},
   "outputs": [
    {
     "data": {
      "text/html": [
       "<div>\n",
       "<style scoped>\n",
       "    .dataframe tbody tr th:only-of-type {\n",
       "        vertical-align: middle;\n",
       "    }\n",
       "\n",
       "    .dataframe tbody tr th {\n",
       "        vertical-align: top;\n",
       "    }\n",
       "\n",
       "    .dataframe thead th {\n",
       "        text-align: right;\n",
       "    }\n",
       "</style>\n",
       "<table border=\"1\" class=\"dataframe\">\n",
       "  <thead>\n",
       "    <tr style=\"text-align: right;\">\n",
       "      <th></th>\n",
       "      <th>realtionship_status</th>\n",
       "      <th>industry</th>\n",
       "      <th>genre</th>\n",
       "      <th>targeted_sex</th>\n",
       "      <th>average_runtime(minutes_per_week)</th>\n",
       "      <th>airtime</th>\n",
       "      <th>airlocation</th>\n",
       "      <th>ratings</th>\n",
       "      <th>expensive</th>\n",
       "      <th>money_back_guarantee</th>\n",
       "    </tr>\n",
       "  </thead>\n",
       "  <tbody>\n",
       "    <tr>\n",
       "      <td>0</td>\n",
       "      <td>4</td>\n",
       "      <td>2</td>\n",
       "      <td>3</td>\n",
       "      <td>1</td>\n",
       "      <td>40</td>\n",
       "      <td>2</td>\n",
       "      <td>38</td>\n",
       "      <td>0.027465</td>\n",
       "      <td>0</td>\n",
       "      <td>1</td>\n",
       "    </tr>\n",
       "    <tr>\n",
       "      <td>1</td>\n",
       "      <td>0</td>\n",
       "      <td>0</td>\n",
       "      <td>0</td>\n",
       "      <td>1</td>\n",
       "      <td>40</td>\n",
       "      <td>2</td>\n",
       "      <td>38</td>\n",
       "      <td>0.027465</td>\n",
       "      <td>1</td>\n",
       "      <td>0</td>\n",
       "    </tr>\n",
       "    <tr>\n",
       "      <td>2</td>\n",
       "      <td>2</td>\n",
       "      <td>4</td>\n",
       "      <td>3</td>\n",
       "      <td>0</td>\n",
       "      <td>40</td>\n",
       "      <td>2</td>\n",
       "      <td>38</td>\n",
       "      <td>0.027465</td>\n",
       "      <td>0</td>\n",
       "      <td>0</td>\n",
       "    </tr>\n",
       "    <tr>\n",
       "      <td>3</td>\n",
       "      <td>4</td>\n",
       "      <td>0</td>\n",
       "      <td>0</td>\n",
       "      <td>0</td>\n",
       "      <td>30</td>\n",
       "      <td>2</td>\n",
       "      <td>38</td>\n",
       "      <td>0.027465</td>\n",
       "      <td>0</td>\n",
       "      <td>1</td>\n",
       "    </tr>\n",
       "    <tr>\n",
       "      <td>4</td>\n",
       "      <td>4</td>\n",
       "      <td>5</td>\n",
       "      <td>0</td>\n",
       "      <td>0</td>\n",
       "      <td>70</td>\n",
       "      <td>1</td>\n",
       "      <td>38</td>\n",
       "      <td>0.027465</td>\n",
       "      <td>1</td>\n",
       "      <td>0</td>\n",
       "    </tr>\n",
       "    <tr>\n",
       "      <td>...</td>\n",
       "      <td>...</td>\n",
       "      <td>...</td>\n",
       "      <td>...</td>\n",
       "      <td>...</td>\n",
       "      <td>...</td>\n",
       "      <td>...</td>\n",
       "      <td>...</td>\n",
       "      <td>...</td>\n",
       "      <td>...</td>\n",
       "      <td>...</td>\n",
       "    </tr>\n",
       "    <tr>\n",
       "      <td>6507</td>\n",
       "      <td>4</td>\n",
       "      <td>5</td>\n",
       "      <td>2</td>\n",
       "      <td>0</td>\n",
       "      <td>40</td>\n",
       "      <td>2</td>\n",
       "      <td>19</td>\n",
       "      <td>0.027465</td>\n",
       "      <td>1</td>\n",
       "      <td>1</td>\n",
       "    </tr>\n",
       "    <tr>\n",
       "      <td>6508</td>\n",
       "      <td>0</td>\n",
       "      <td>2</td>\n",
       "      <td>0</td>\n",
       "      <td>1</td>\n",
       "      <td>40</td>\n",
       "      <td>2</td>\n",
       "      <td>38</td>\n",
       "      <td>0.027465</td>\n",
       "      <td>1</td>\n",
       "      <td>1</td>\n",
       "    </tr>\n",
       "    <tr>\n",
       "      <td>6509</td>\n",
       "      <td>2</td>\n",
       "      <td>4</td>\n",
       "      <td>0</td>\n",
       "      <td>0</td>\n",
       "      <td>40</td>\n",
       "      <td>2</td>\n",
       "      <td>38</td>\n",
       "      <td>0.027465</td>\n",
       "      <td>0</td>\n",
       "      <td>1</td>\n",
       "    </tr>\n",
       "    <tr>\n",
       "      <td>6510</td>\n",
       "      <td>0</td>\n",
       "      <td>0</td>\n",
       "      <td>0</td>\n",
       "      <td>1</td>\n",
       "      <td>35</td>\n",
       "      <td>2</td>\n",
       "      <td>38</td>\n",
       "      <td>0.027465</td>\n",
       "      <td>1</td>\n",
       "      <td>1</td>\n",
       "    </tr>\n",
       "    <tr>\n",
       "      <td>6511</td>\n",
       "      <td>0</td>\n",
       "      <td>2</td>\n",
       "      <td>0</td>\n",
       "      <td>1</td>\n",
       "      <td>35</td>\n",
       "      <td>2</td>\n",
       "      <td>38</td>\n",
       "      <td>0.027465</td>\n",
       "      <td>1</td>\n",
       "      <td>0</td>\n",
       "    </tr>\n",
       "  </tbody>\n",
       "</table>\n",
       "<p>6512 rows × 10 columns</p>\n",
       "</div>"
      ],
      "text/plain": [
       "      realtionship_status  industry  genre  targeted_sex  \\\n",
       "0                       4         2      3             1   \n",
       "1                       0         0      0             1   \n",
       "2                       2         4      3             0   \n",
       "3                       4         0      0             0   \n",
       "4                       4         5      0             0   \n",
       "...                   ...       ...    ...           ...   \n",
       "6507                    4         5      2             0   \n",
       "6508                    0         2      0             1   \n",
       "6509                    2         4      0             0   \n",
       "6510                    0         0      0             1   \n",
       "6511                    0         2      0             1   \n",
       "\n",
       "      average_runtime(minutes_per_week)  airtime  airlocation   ratings  \\\n",
       "0                                    40        2           38  0.027465   \n",
       "1                                    40        2           38  0.027465   \n",
       "2                                    40        2           38  0.027465   \n",
       "3                                    30        2           38  0.027465   \n",
       "4                                    70        1           38  0.027465   \n",
       "...                                 ...      ...          ...       ...   \n",
       "6507                                 40        2           19  0.027465   \n",
       "6508                                 40        2           38  0.027465   \n",
       "6509                                 40        2           38  0.027465   \n",
       "6510                                 35        2           38  0.027465   \n",
       "6511                                 35        2           38  0.027465   \n",
       "\n",
       "      expensive  money_back_guarantee  \n",
       "0             0                     1  \n",
       "1             1                     0  \n",
       "2             0                     0  \n",
       "3             0                     1  \n",
       "4             1                     0  \n",
       "...         ...                   ...  \n",
       "6507          1                     1  \n",
       "6508          1                     1  \n",
       "6509          0                     1  \n",
       "6510          1                     1  \n",
       "6511          1                     0  \n",
       "\n",
       "[6512 rows x 10 columns]"
      ]
     },
     "execution_count": 61,
     "metadata": {},
     "output_type": "execute_result"
    }
   ],
   "source": [
    "test_df"
   ]
  },
  {
   "cell_type": "code",
   "execution_count": 62,
   "metadata": {},
   "outputs": [
    {
     "data": {
      "text/html": [
       "<div>\n",
       "<style scoped>\n",
       "    .dataframe tbody tr th:only-of-type {\n",
       "        vertical-align: middle;\n",
       "    }\n",
       "\n",
       "    .dataframe tbody tr th {\n",
       "        vertical-align: top;\n",
       "    }\n",
       "\n",
       "    .dataframe thead th {\n",
       "        text-align: right;\n",
       "    }\n",
       "</style>\n",
       "<table border=\"1\" class=\"dataframe\">\n",
       "  <thead>\n",
       "    <tr style=\"text-align: right;\">\n",
       "      <th></th>\n",
       "      <th>netgain</th>\n",
       "    </tr>\n",
       "  </thead>\n",
       "  <tbody>\n",
       "    <tr>\n",
       "      <td>0</td>\n",
       "      <td>0</td>\n",
       "    </tr>\n",
       "    <tr>\n",
       "      <td>1</td>\n",
       "      <td>0</td>\n",
       "    </tr>\n",
       "    <tr>\n",
       "      <td>2</td>\n",
       "      <td>1</td>\n",
       "    </tr>\n",
       "    <tr>\n",
       "      <td>3</td>\n",
       "      <td>0</td>\n",
       "    </tr>\n",
       "    <tr>\n",
       "      <td>4</td>\n",
       "      <td>0</td>\n",
       "    </tr>\n",
       "    <tr>\n",
       "      <td>...</td>\n",
       "      <td>...</td>\n",
       "    </tr>\n",
       "    <tr>\n",
       "      <td>6507</td>\n",
       "      <td>0</td>\n",
       "    </tr>\n",
       "    <tr>\n",
       "      <td>6508</td>\n",
       "      <td>0</td>\n",
       "    </tr>\n",
       "    <tr>\n",
       "      <td>6509</td>\n",
       "      <td>1</td>\n",
       "    </tr>\n",
       "    <tr>\n",
       "      <td>6510</td>\n",
       "      <td>0</td>\n",
       "    </tr>\n",
       "    <tr>\n",
       "      <td>6511</td>\n",
       "      <td>0</td>\n",
       "    </tr>\n",
       "  </tbody>\n",
       "</table>\n",
       "<p>6512 rows × 1 columns</p>\n",
       "</div>"
      ],
      "text/plain": [
       "      netgain\n",
       "0           0\n",
       "1           0\n",
       "2           1\n",
       "3           0\n",
       "4           0\n",
       "...       ...\n",
       "6507        0\n",
       "6508        0\n",
       "6509        1\n",
       "6510        0\n",
       "6511        0\n",
       "\n",
       "[6512 rows x 1 columns]"
      ]
     },
     "execution_count": 62,
     "metadata": {},
     "output_type": "execute_result"
    }
   ],
   "source": [
    "final_1 = gsearch.predict(test_df)\n",
    "output = pd.DataFrame(data = final_1, columns=['netgain'])\n",
    "#output = output['Price'].astype(int)\n",
    "output.to_csv('tunned.csv', index=False)\n",
    "output"
   ]
  }
 ],
 "metadata": {
  "kernelspec": {
   "display_name": "Python 3",
   "language": "python",
   "name": "python3"
  },
  "language_info": {
   "codemirror_mode": {
    "name": "ipython",
    "version": 3
   },
   "file_extension": ".py",
   "mimetype": "text/x-python",
   "name": "python",
   "nbconvert_exporter": "python",
   "pygments_lexer": "ipython3",
   "version": "3.7.4"
  }
 },
 "nbformat": 4,
 "nbformat_minor": 2
}
